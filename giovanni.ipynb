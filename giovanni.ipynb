{
 "cells": [
  {
   "cell_type": "markdown",
   "metadata": {},
   "source": [
    "# Gerador aux relatório"
   ]
  },
  {
   "cell_type": "code",
   "execution_count": 46,
   "metadata": {},
   "outputs": [],
   "source": [
    "#files = ['pr1002']\n",
    "files = ['a280', 'berlin52', 'eil101', 'tsp225']\n",
    "#files = ['a280', 'berlin52', 'eli101', 'tsp225', 'pr1002', 'd18512']\n",
    "\n",
    "enable_mst = True\n",
    "enable_tour = False\n",
    "percentage_delta = 0.01"
   ]
  },
  {
   "cell_type": "code",
   "execution_count": 47,
   "metadata": {
    "vscode": {
     "languageId": "shellscript"
    }
   },
   "outputs": [],
   "source": [
    "%%capture\n",
    "\n",
    "!make clean\n",
    "!make"
   ]
  },
  {
   "cell_type": "code",
   "execution_count": 48,
   "metadata": {},
   "outputs": [
    {
     "name": "stdout",
     "output_type": "stream",
     "text": [
      "Running exemplos/in/a280.tsp\n",
      "Running exemplos/in/berlin52.tsp\n",
      "Running exemplos/in/eil101.tsp\n",
      "Running exemplos/in/tsp225.tsp\n",
      "Done\n"
     ]
    }
   ],
   "source": [
    "from os import system\n",
    "\n",
    "for file in files:\n",
    "    file_path = f'exemplos/in/{file}.tsp'\n",
    "    print(f'Running {file_path}')\n",
    "    system(f'./trab1 {file_path}')\n",
    "\n",
    "print('Done')"
   ]
  },
  {
   "cell_type": "code",
   "execution_count": 49,
   "metadata": {},
   "outputs": [],
   "source": [
    "%%capture\n",
    "\n",
    "# Plot dos exemplos no Jupyter Notebook já que o vadio o vadio do Jheam, que usa WSL,\n",
    "# não tem backend de GUI pra plotar imagens\n",
    "\n",
    "import tsp_plot\n",
    "import matplotlib.pyplot as plt\n",
    "\n",
    "has_diffs = []\n",
    "for file in files:\n",
    "    diff = tsp_plot.produce_diff(f'exemplos/in/{file}.tsp', f'exemplos/mst/{file}.mst' if enable_mst else '', f'{file}.mst', f'exemplos/tour/{file}.tour' if enable_tour else '', f'{file}.tour', percentage_delta)\n",
    "    has_diffs.append(diff)\n",
    "\n",
    "diffs = list(zip(files, has_diffs))"
   ]
  },
  {
   "cell_type": "code",
   "execution_count": 50,
   "metadata": {},
   "outputs": [
    {
     "name": "stdout",
     "output_type": "stream",
     "text": [
      "MST TESTS\n",
      "a280: OK\n",
      "berlin52: OK\n",
      "eil101: OK\n",
      "tsp225: OK\n"
     ]
    }
   ],
   "source": [
    "# MST TESTS\n",
    "\n",
    "if enable_mst:\n",
    "    print('MST TESTS')\n",
    "    for file, has_diff in diffs:\n",
    "        print(f'{file}: {\"OK\" if not has_diff else \"FAIL\"}')\n",
    "\n",
    "    for file, has_diff in diffs:\n",
    "        if not has_diff:\n",
    "            continue\n",
    "        tsp_plot.produce_diff(f'exemplos/in/{file}.tsp', f'exemplos/mst/{file}.mst' if enable_mst else '', f'{file}.mst', f'exemplos/tour/{file}.tour' if enable_tour else '', f'{file}.tour', percentage_delta)\n",
    "else:\n",
    "    print('MST TESTS SKIPPED')"
   ]
  },
  {
   "cell_type": "code",
   "execution_count": 51,
   "metadata": {},
   "outputs": [
    {
     "name": "stdout",
     "output_type": "stream",
     "text": [
      "TOUR TESTS SKIPPED\n"
     ]
    }
   ],
   "source": [
    "# TOUR TESTS\n",
    "\n",
    "if enable_tour:\n",
    "    print('TOUR TESTS')\n",
    "    for file, has_diff in diffs:\n",
    "        print(f'{file}: {\"OK\" if not has_diff else \"FAIL\"}')\n",
    "\n",
    "    for file, has_diff in diffs:\n",
    "        if not has_diff:\n",
    "            continue\n",
    "        tsp_plot.produce_diff(f'exemplos/in/{file}.tsp', f'exemplos/mst/{file}.mst' if enable_mst else '', f'{file}.mst', f'exemplos/tour/{file}.tour' if enable_tour else '', f'{file}.tour', percentage_delta)\n",
    "else:\n",
    "    print('TOUR TESTS SKIPPED')"
   ]
  }
 ],
 "metadata": {
  "kernelspec": {
   "display_name": "ufes-mst",
   "language": "python",
   "name": "python3"
  },
  "language_info": {
   "codemirror_mode": {
    "name": "ipython",
    "version": 3
   },
   "file_extension": ".py",
   "mimetype": "text/x-python",
   "name": "python",
   "nbconvert_exporter": "python",
   "pygments_lexer": "ipython3",
   "version": "3.10.12"
  },
  "orig_nbformat": 4
 },
 "nbformat": 4,
 "nbformat_minor": 2
}
