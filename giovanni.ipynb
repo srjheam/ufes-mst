{
 "cells": [
  {
   "cell_type": "markdown",
   "metadata": {},
   "source": [
    "# Gerador aux relatório"
   ]
  },
  {
   "cell_type": "code",
   "execution_count": 6,
   "metadata": {},
   "outputs": [],
   "source": [
    "import os\n",
    "import subprocess\n",
    "import tsp_plot"
   ]
  },
  {
   "cell_type": "code",
   "execution_count": 10,
   "metadata": {},
   "outputs": [],
   "source": [
    "files = ['pr1002']\n",
    "#files = ['a280', 'berlin52', 'eil101', 'tsp225', 'pr1002']\n",
    "#files = ['a280', 'berlin52', 'eli101', 'tsp225', 'pr1002', 'd18512']\n",
    "\n",
    "enable_mst = True\n",
    "enable_tour = False\n",
    "percentage_delta = 0.01"
   ]
  },
  {
   "cell_type": "code",
   "execution_count": 4,
   "metadata": {},
   "outputs": [
    {
     "name": "stdout",
     "output_type": "stream",
     "text": [
      "Running with -DBENCHMARK\n",
      "Running d18512\n",
      "Minimum: 33.9141\n",
      "Maximum: 35.085431\n",
      "Average: 34.1725952\n",
      "\n",
      "Average: 34.1725952\n",
      "\n",
      "Running with -DEX_HEAP -DBENCHMARK\n",
      "Running d18512\n",
      "Minimum: 13.013649\n",
      "Maximum: 13.769573\n",
      "Average: 13.457031999999998\n",
      "\n",
      "Average: 13.457031999999998\n",
      "\n",
      "Done\n"
     ]
    }
   ],
   "source": [
    "for case in ['-DBENCHMARK', '-DEX_HEAP -DBENCHMARK']:\n",
    "    os.environ['CFLAGS'] = case\n",
    "    os.system('make clean >/dev/null')\n",
    "    os.system('make >/dev/null')\n",
    "\n",
    "    sum_avgs = 0\n",
    "\n",
    "    print(f'Running with {case}')\n",
    "    for file in files:\n",
    "        file_path = f'exemplos/in/{file}.tsp'\n",
    "        print(f'Running {file_path}')\n",
    "        benchs = []\n",
    "        for r in range(10):\n",
    "            result = subprocess.check_output(f'./trab1 {file_path}', shell=True)\n",
    "            result = float(result.decode('utf-8'))\n",
    "            benchs.append(result)\n",
    "        print(f'Minimum: {min(benchs)}')\n",
    "        print(f'Maximum: {max(benchs)}')\n",
    "        print(f'Average: {sum(benchs)/len(benchs)}')\n",
    "\n",
    "        sum_avgs += sum(benchs)/len(benchs)\n",
    "\n",
    "    print()\n",
    "    print(f'Average: {sum_avgs/len(files)}')\n",
    "    print()\n",
    "\n",
    "print('Done')"
   ]
  },
  {
   "cell_type": "code",
   "execution_count": 14,
   "metadata": {},
   "outputs": [],
   "source": [
    "%%capture\n",
    "\n",
    "# Plot dos exemplos no Jupyter Notebook já que o vadio o vadio do Jheam, que usa WSL,\n",
    "# não tem backend de GUI pra plotar imagens\n",
    "\n",
    "has_diffs = []\n",
    "for file in files:\n",
    "    diff = tsp_plot.produce_diff(f'exemplos/in/{file}.tsp', f'exemplos/mst/{file}.mst' if enable_mst else '', f'{file}.mst', f'exemplos/tour/{file}.tour' if enable_tour else '', f'{file}.tour', percentage_delta)\n",
    "    has_diffs.append(diff)\n",
    "\n",
    "diffs = list(zip(files, has_diffs))"
   ]
  },
  {
   "cell_type": "code",
   "execution_count": 15,
   "metadata": {},
   "outputs": [
    {
     "name": "stdout",
     "output_type": "stream",
     "text": [
      "MST TESTS\n",
      "pr1002: OK\n"
     ]
    }
   ],
   "source": [
    "# MST TESTS\n",
    "if enable_mst:\n",
    "    print('MST TESTS')\n",
    "    for file, has_diff in diffs:\n",
    "        print(f'{file}: {\"OK\" if not has_diff else \"FAIL\"}')\n",
    "\n",
    "    for file, has_diff in diffs:\n",
    "        if not has_diff:\n",
    "            continue\n",
    "        tsp_plot.produce_diff(f'exemplos/in/{file}.tsp', f'exemplos/mst/{file}.mst' if enable_mst else '', f'{file}.mst', '', '', percentage_delta)\n",
    "else:\n",
    "    print('MST TESTS SKIPPED')"
   ]
  },
  {
   "cell_type": "code",
   "execution_count": 16,
   "metadata": {},
   "outputs": [
    {
     "name": "stdout",
     "output_type": "stream",
     "text": [
      "TOUR TESTS SKIPPED\n"
     ]
    }
   ],
   "source": [
    "# TOUR TESTS\n",
    "if enable_tour:\n",
    "    print('TOUR TESTS')\n",
    "    for file, has_diff in diffs:\n",
    "        print(f'{file}: {\"OK\" if not has_diff else \"FAIL\"}')\n",
    "\n",
    "    for file, has_diff in diffs:\n",
    "        if not has_diff:\n",
    "            continue\n",
    "        tsp_plot.produce_diff(f'exemplos/in/{file}.tsp', '', '', f'exemplos/tour/{file}.tour' if enable_tour else '', f'{file}.tour', percentage_delta)\n",
    "else:\n",
    "    print('TOUR TESTS SKIPPED')"
   ]
  }
 ],
 "metadata": {
  "kernelspec": {
   "display_name": "ufes-mst",
   "language": "python",
   "name": "python3"
  },
  "language_info": {
   "codemirror_mode": {
    "name": "ipython",
    "version": 3
   },
   "file_extension": ".py",
   "mimetype": "text/x-python",
   "name": "python",
   "nbconvert_exporter": "python",
   "pygments_lexer": "ipython3",
   "version": "3.10.12"
  },
  "orig_nbformat": 4
 },
 "nbformat": 4,
 "nbformat_minor": 2
}
