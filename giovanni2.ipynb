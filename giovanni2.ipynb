{
 "cells": [
  {
   "cell_type": "markdown",
   "metadata": {},
   "source": [
    "# Benchmarkeador\n",
    "\n",
    "Benchmarkea os algoritmos."
   ]
  },
  {
   "cell_type": "code",
   "execution_count": 1,
   "metadata": {},
   "outputs": [],
   "source": [
    "import os\n",
    "import subprocess\n",
    "import tsp_random"
   ]
  },
  {
   "cell_type": "code",
   "execution_count": 22,
   "metadata": {},
   "outputs": [
    {
     "name": "stdout",
     "output_type": "stream",
     "text": [
      "Testing between\n",
      "[280, 16280]\n"
     ]
    }
   ],
   "source": [
    "dir = 'exemplos/my'\n",
    "clean_end = True\n",
    "\n",
    "qty_tsps = 16\n",
    "\n",
    "# qual o melhor jeito de avaliar um algoritmo?\n",
    "# com passos lineares que nem numa PA?\n",
    "# ou com passos exponenciais que nem numa PG?\n",
    "\n",
    "start_tsp = 280\n",
    "steep_tsp = 1000\n",
    "\n",
    "print('Testing between')\n",
    "print(f'[{start_tsp}, {start_tsp + steep_tsp * qty_tsps}]')"
   ]
  },
  {
   "cell_type": "code",
   "execution_count": 26,
   "metadata": {},
   "outputs": [
    {
     "name": "stdout",
     "output_type": "stream",
     "text": [
      "Generating random tsps\n",
      "Generated tsp exemplos/my/random280_3552331787893341; Generated tsp exemplos/my/random1280_7104663575796799; Generated tsp exemplos/my/random2280_3552331787909451; Generated tsp exemplos/my/random3280_7104663575851373; Generated tsp exemplos/my/random4280_7104663575892457; Generated tsp exemplos/my/random5280_3552331787972805; Generated tsp exemplos/my/random6280_7104663576005207; Generated tsp exemplos/my/random7280_7104663576085833; Generated tsp exemplos/my/random8280_3552331788084749; Generated tsp exemplos/my/random9280_7104663576271577; Generated tsp exemplos/my/random10280_7104663576377497; Generated tsp exemplos/my/random11280_7104663576493173; Generated tsp exemplos/my/random12280_7104663576619957; Generated tsp exemplos/my/random13280_7104663576772779; Generated tsp exemplos/my/random14280_3552331788464405; Generated tsp exemplos/my/random15280_1776165894273147; \n",
      "Done\n"
     ]
    }
   ],
   "source": [
    "if not os.path.exists(dir):\n",
    "    raise Exception('Directory does not exist')\n",
    "\n",
    "if len(os.listdir(dir)) > 0:\n",
    "    print(f'Skipping random tsps generation because directory is not empty and {len(os.listdir(dir))} files were found at {dir}')\n",
    "else:\n",
    "    print('Generating random tsps')\n",
    "    for i in range(qty_tsps):\n",
    "        currdim = start_tsp + i * steep_tsp\n",
    "        tsp = tsp_random.random_tsp(currdim, dir)\n",
    "        print(f'{dir}/{tsp[\"NAME\"]}', end='; ')\n",
    "    print()\n",
    "    print('Done')"
   ]
  },
  {
   "cell_type": "code",
   "execution_count": null,
   "metadata": {},
   "outputs": [],
   "source": [
    "def benchmark(file, epochs):\n",
    "    \n",
    "    for i in range(epochs):\n",
    "        result = subprocess.check_output(f'./trab1 {file_path}', shell=True)\n",
    "        result = float(result.decode('utf-8'))\n",
    "        benchs.append(result)"
   ]
  },
  {
   "cell_type": "code",
   "execution_count": null,
   "metadata": {},
   "outputs": [],
   "source": [
    "for case in ['', '-DEX_HEAP']:\n",
    "    os.environ['CFLAGS'] = case\n",
    "    os.system('make clean >/dev/null')\n",
    "    os.system('make >/dev/null')\n",
    "\n",
    "    sum_avgs = 0\n",
    "\n",
    "    print(f'Running with {case}')\n",
    "    for file in files:\n",
    "        file_path = f'exemplos/in/{file}.tsp'\n",
    "        retries = 3\n",
    "        print(f'Running {file_path} {retries} times')\n",
    "        benchs = []\n",
    "        for r in range(retries):\n",
    "            result = subprocess.check_output(f'./trab1 {file_path}', shell=True)\n",
    "            result = float(result.decode('utf-8'))\n",
    "            benchs.append(result)\n",
    "        print(f'Minimum: {min(benchs)}')\n",
    "        print(f'Maximum: {max(benchs)}')\n",
    "        print(f'Average: {sum(benchs)/len(benchs)}')\n",
    "\n",
    "        sum_avgs += sum(benchs)/len(benchs)\n",
    "\n",
    "    print()\n",
    "    print(f'Average: {sum_avgs/len(files)}')\n",
    "    print()\n",
    "\n",
    "print('Done')"
   ]
  },
  {
   "cell_type": "code",
   "execution_count": 27,
   "metadata": {},
   "outputs": [
    {
     "name": "stdout",
     "output_type": "stream",
     "text": [
      "Cleaning up...\n",
      "exemplos/my/exemplos/my/random14280_3552331788464405.tsp; exemplos/my/exemplos/my/random2280_3552331787909451.tsp; exemplos/my/exemplos/my/random3280_7104663575851373.tsp; exemplos/my/exemplos/my/random11280_7104663576493173.tsp; exemplos/my/exemplos/my/random7280_7104663576085833.tsp; exemplos/my/exemplos/my/random12280_7104663576619957.tsp; exemplos/my/exemplos/my/random1280_7104663575796799.tsp; exemplos/my/exemplos/my/random15280_1776165894273147.tsp; exemplos/my/exemplos/my/random8280_3552331788084749.tsp; exemplos/my/exemplos/my/random6280_7104663576005207.tsp; exemplos/my/exemplos/my/random280_3552331787893341.tsp; exemplos/my/exemplos/my/random5280_3552331787972805.tsp; exemplos/my/exemplos/my/random9280_7104663576271577.tsp; exemplos/my/exemplos/my/random13280_7104663576772779.tsp; exemplos/my/exemplos/my/random10280_7104663576377497.tsp; exemplos/my/exemplos/my/random4280_7104663575892457.tsp; \n",
      "Done\n"
     ]
    }
   ],
   "source": [
    "if clean_end:\n",
    "    print('Cleaning up...')\n",
    "    for f in os.listdir(dir):\n",
    "        if not f.endswith(\".tsp\"):\n",
    "            continue\n",
    "        file = os.path.join(dir, f)\n",
    "        print(f'{dir}/{file}', end='; ')\n",
    "        os.remove(file)\n",
    "    print()\n",
    "    print('Done')\n",
    "else:\n",
    "    print('Not cleaning up')"
   ]
  }
 ],
 "metadata": {
  "kernelspec": {
   "display_name": "ufes-mst",
   "language": "python",
   "name": "python3"
  },
  "language_info": {
   "codemirror_mode": {
    "name": "ipython",
    "version": 3
   },
   "file_extension": ".py",
   "mimetype": "text/x-python",
   "name": "python",
   "nbconvert_exporter": "python",
   "pygments_lexer": "ipython3",
   "version": "3.10.12"
  },
  "orig_nbformat": 4
 },
 "nbformat": 4,
 "nbformat_minor": 2
}
